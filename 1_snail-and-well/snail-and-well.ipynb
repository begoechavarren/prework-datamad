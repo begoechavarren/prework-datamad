{
 "cells": [
  {
   "cell_type": "markdown",
   "metadata": {},
   "source": [
    "# Snail and well\n",
    "\n",
    "A snail falls at the bottom of a 125 cm well. Each day the snail rises 30 cm. But at night, while sleeping, slides 20 cm because the walls are wet. How many days does it take to escape from the well?\n",
    "\n",
    "TIP: http://puzzles.nigelcoldwell.co.uk/sixtytwo.htm"
   ]
  },
  {
   "cell_type": "markdown",
   "metadata": {},
   "source": [
    "## Solución"
   ]
  },
  {
   "cell_type": "code",
   "execution_count": 3,
   "metadata": {},
   "outputs": [
    {
     "name": "stdout",
     "output_type": "stream",
     "text": [
      "11\n"
     ]
    }
   ],
   "source": [
    "# Assign problem data to variables with representative names\n",
    "# well height, daily advance, night retreat, accumulated distance\n",
    "wall_height_1 = 125\n",
    "daily_advance_1 = 30\n",
    "night_retreat_1 = -20\n",
    "\n",
    "\n",
    "# Assign 0 to the variable that represents the solution\n",
    "\n",
    "\n",
    "\n",
    "# Write the code that solves the problem\n",
    "\n",
    "def calculate_days_it_takes(wall_height,daily_advance,night_retreat):\n",
    "    accumulated_distance = 0\n",
    "    days_it_takes = 0\n",
    "    while accumulated_distance < wall_height:\n",
    "        days_it_takes +=1\n",
    "        accumulated_distance += daily_advance\n",
    "        if accumulated_distance < wall_height:\n",
    "            accumulated_distance += night_retreat\n",
    "    return days_it_takes\n",
    "\n",
    "print(calculate_days_it_takes(wall_height_1,daily_advance_1,night_retreat_1))\n",
    "\n",
    "\n",
    "# Print the result with print('Days =', days)\n"
   ]
  },
  {
   "cell_type": "markdown",
   "metadata": {},
   "source": [
    "**Expected output**: \n",
    "```\n",
    "Days = 11\n",
    "```"
   ]
  },
  {
   "cell_type": "markdown",
   "metadata": {},
   "source": [
    "## Goals\n",
    "\n",
    "1. Treatment of variables\n",
    "2. Use of loop **while**\n",
    "3. Use of conditional **if-else**\n",
    "4. Print in console"
   ]
  },
  {
   "cell_type": "markdown",
   "metadata": {},
   "source": [
    "## Bonus\n",
    "The distance traveled by the snail is now defined by a list.\n",
    "```\n",
    "advance_cm = [30, 21, 33, 77, 44, 45, 23, 45, 12, 34, 55]\n",
    "```\n",
    "How long does it take to raise the well?\n",
    "\n",
    "What is its maximum displacement in one day? And its minimum?\n",
    "\n",
    "What is its average speed during the day?\n",
    "\n",
    "What is the standard deviation of its displacement during the day?"
   ]
  },
  {
   "cell_type": "code",
   "execution_count": 3,
   "metadata": {},
   "outputs": [
    {
     "name": "stdout",
     "output_type": "stream",
     "text": [
      "Days = 6\n",
      "Maximum displacement = 77\n",
      "Minimum displacement = 21\n",
      "Average progress = 38.09090909090909\n"
     ]
    }
   ],
   "source": [
    "# Assign problem data to variables with representative names\n",
    "# well height, daily advance, night retreat, accumulated distance\n",
    "wall_height_1 = 125\n",
    "daily_advance_1 = [30, 21, 33, 77, 44, 45, 23, 45, 12, 34, 55]\n",
    "night_retreat_1 = -20\n",
    "\n",
    "# Assign 0 to the variable that represents the solution\n",
    "\n",
    "\n",
    "# Write the code that solves the problem\n",
    "\n",
    "def calculate_days_it_takes(wall_height,daily_advance,night_retreat):\n",
    "    accumulated_distance = 0\n",
    "    days_it_takes = 0\n",
    "    while accumulated_distance <= wall_height:\n",
    "        days_it_takes +=1\n",
    "        accumulated_distance += daily_advance[days_it_takes -1]\n",
    "        if accumulated_distance <= wall_height:\n",
    "            accumulated_distance += night_retreat\n",
    "    return days_it_takes\n",
    "\n",
    "days_it_takes_1 = calculate_days_it_takes(wall_height_1,daily_advance_1,night_retreat_1)\n",
    "\n",
    "print(\"Days =\", days_it_takes_1)\n",
    "#print(\"Maximum displacement =\", )\n",
    "\n",
    "maximum_displacement_1 = max(daily_advance_1[:(days_it_takes_1)])\n",
    "print(\"Maximum displacement =\", maximum_displacement_1)\n",
    "\n",
    "mimimum_displacement_1 = min(daily_advance_1[:(days_it_takes_1)])\n",
    "print(\"Minimum displacement =\", mimimum_displacement_1)\n",
    "\n",
    "average_progress_1 = sum(daily_advance_1) / len(daily_advance_1)\n",
    "print(\"Average progress =\", average_progress_1)\n",
    "\n",
    "\n",
    "# Print the result with print('Days =', days)\n"
   ]
  },
  {
   "cell_type": "markdown",
   "metadata": {},
   "source": [
    "**Expected output**: \n",
    "```\n",
    "Days = 6\n",
    "```"
   ]
  },
  {
   "cell_type": "code",
   "execution_count": 4,
   "metadata": {},
   "outputs": [],
   "source": [
    "# What is its maximum displacement in a day? And its minimum?\n",
    "\n"
   ]
  },
  {
   "cell_type": "markdown",
   "metadata": {},
   "source": [
    "**Expected output**: \n",
    "```\n",
    "77 12\n",
    "```"
   ]
  },
  {
   "cell_type": "code",
   "execution_count": 5,
   "metadata": {},
   "outputs": [],
   "source": [
    "# What is its average progress?\n"
   ]
  },
  {
   "cell_type": "markdown",
   "metadata": {},
   "source": [
    "**Expected output**: \n",
    "```\n",
    "38.09090909090909\n",
    "```"
   ]
  },
  {
   "cell_type": "code",
   "execution_count": 10,
   "metadata": {},
   "outputs": [
    {
     "name": "stdout",
     "output_type": "stream",
     "text": [
      "17.996969441850734\n"
     ]
    }
   ],
   "source": [
    "# What is the standard deviation of your displacement during the day?\n",
    "\n",
    "import statistics\n",
    "\n",
    "standard_deviation = statistics.stdev(daily_advance_1)\n",
    "\n",
    "print(standard_deviation)"
   ]
  },
  {
   "cell_type": "markdown",
   "metadata": {},
   "source": [
    "**Expected output**: \n",
    "```\n",
    "17.159437082600803\n",
    "```"
   ]
  }
 ],
 "metadata": {
  "kernelspec": {
   "display_name": "Python 3",
   "language": "python",
   "name": "python3"
  },
  "language_info": {
   "codemirror_mode": {
    "name": "ipython",
    "version": 3
   },
   "file_extension": ".py",
   "mimetype": "text/x-python",
   "name": "python",
   "nbconvert_exporter": "python",
   "pygments_lexer": "ipython3",
   "version": "3.7.4"
  }
 },
 "nbformat": 4,
 "nbformat_minor": 2
}
